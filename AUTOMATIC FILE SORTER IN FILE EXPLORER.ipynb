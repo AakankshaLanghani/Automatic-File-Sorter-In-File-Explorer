{
 "cells": [
  {
   "cell_type": "markdown",
   "id": "f6c8b007-e572-41ae-9017-98c72bd6f6e8",
   "metadata": {},
   "source": [
    "                       AUTOMATIC FILE SORTER IN FILE EXPLORER\n"
   ]
  },
  {
   "cell_type": "code",
   "execution_count": 11,
   "id": "c1c5c13a-76f4-4f21-a00b-44b115555ca3",
   "metadata": {},
   "outputs": [],
   "source": [
    "import os, shutil"
   ]
  },
  {
   "cell_type": "code",
   "execution_count": 13,
   "id": "066a10ad-b02f-46a6-bee7-b3fbecbd5c43",
   "metadata": {},
   "outputs": [],
   "source": [
    "path = r\"C:/Users/Lenovo/Desktop/PYTHON/\""
   ]
  },
  {
   "cell_type": "code",
   "execution_count": 15,
   "id": "0d207a21-b90c-4cdd-8b1d-0afa756fab02",
   "metadata": {},
   "outputs": [],
   "source": [
    "file_name = os.listdir(path)"
   ]
  },
  {
   "cell_type": "code",
   "execution_count": 17,
   "id": "7a2828fb-a180-4479-9fad-05e12faf4727",
   "metadata": {},
   "outputs": [],
   "source": [
    "folder_names = [ \"csv files\" , \"image files\"  , \"text files\" ]\n",
    "\n",
    "for loop in range(0,3):\n",
    "    if not os.path.exists(path+ folder_names[loop] ):\n",
    "        print(path+ folder_names[loop])\n",
    "        os.makedirs(path+ folder_names[loop])"
   ]
  },
  {
   "cell_type": "code",
   "execution_count": 32,
   "id": "15dc3658-276f-42f2-a4a5-12d1d43fb5ba",
   "metadata": {},
   "outputs": [],
   "source": [
    "for file in file_name:\n",
    "     if \".csv\" in file and not os.path.exists(path+ \"csv files/\" + file ):\n",
    "        shutil.move(path + file, path+ \"csv files/\" + file)\n",
    "     elif \".png\" in file and not os.path.exists(path+ \"image files/\" + file ):\n",
    "         shutil.move(path + file, path+ \"image files/\" + file)\n",
    "\n",
    "     elif \".txt\" in file and not os.path.exists(path+ \"text files/\" + file ):\n",
    "        shutil.move(path + file, path+ \"text files/\" + file)\n",
    "  "
   ]
  },
  {
   "cell_type": "code",
   "execution_count": null,
   "id": "538d03e7-5ba8-47d1-9f4a-4c73f8dd7616",
   "metadata": {},
   "outputs": [],
   "source": [
    "   "
   ]
  },
  {
   "cell_type": "code",
   "execution_count": null,
   "id": "0988631e-3b50-48ae-b0c3-287b187e582d",
   "metadata": {},
   "outputs": [],
   "source": []
  },
  {
   "cell_type": "code",
   "execution_count": null,
   "id": "8dded722-7012-4aaa-8fdf-5d5c84d83857",
   "metadata": {},
   "outputs": [],
   "source": []
  },
  {
   "cell_type": "code",
   "execution_count": null,
   "id": "30e3dc7f-4723-4ef0-8dc0-e3786fd3bfd1",
   "metadata": {},
   "outputs": [],
   "source": []
  },
  {
   "cell_type": "code",
   "execution_count": null,
   "id": "8311bef0-e525-487b-afa5-92147d6fdf78",
   "metadata": {},
   "outputs": [],
   "source": []
  },
  {
   "cell_type": "code",
   "execution_count": null,
   "id": "d09e2622-534a-4dcd-a6e3-be7c24317fb4",
   "metadata": {},
   "outputs": [],
   "source": []
  },
  {
   "cell_type": "code",
   "execution_count": null,
   "id": "af2ed99e-0e95-432a-b746-01a35251364c",
   "metadata": {},
   "outputs": [],
   "source": []
  },
  {
   "cell_type": "code",
   "execution_count": null,
   "id": "a0d673f7-9148-4308-9256-700d4ccf3d30",
   "metadata": {},
   "outputs": [],
   "source": []
  },
  {
   "cell_type": "code",
   "execution_count": null,
   "id": "627be641-9bfb-4291-a2ee-3da093b09140",
   "metadata": {},
   "outputs": [],
   "source": []
  },
  {
   "cell_type": "code",
   "execution_count": null,
   "id": "953ce483-0d51-4a44-a297-c9e2a20c88ea",
   "metadata": {},
   "outputs": [],
   "source": []
  },
  {
   "cell_type": "code",
   "execution_count": null,
   "id": "3f80c01b-c306-4509-b516-7a6a7ec61d88",
   "metadata": {},
   "outputs": [],
   "source": []
  },
  {
   "cell_type": "code",
   "execution_count": null,
   "id": "a7f502d2-0544-43c0-961e-fb43e290c671",
   "metadata": {},
   "outputs": [],
   "source": []
  }
 ],
 "metadata": {
  "kernelspec": {
   "display_name": "Python 3 (ipykernel)",
   "language": "python",
   "name": "python3"
  },
  "language_info": {
   "codemirror_mode": {
    "name": "ipython",
    "version": 3
   },
   "file_extension": ".py",
   "mimetype": "text/x-python",
   "name": "python",
   "nbconvert_exporter": "python",
   "pygments_lexer": "ipython3",
   "version": "3.12.4"
  }
 },
 "nbformat": 4,
 "nbformat_minor": 5
}
